{
 "cells": [
  {
   "cell_type": "code",
   "execution_count": 1,
   "id": "2b94df18",
   "metadata": {},
   "outputs": [
    {
     "name": "stdout",
     "output_type": "stream",
     "text": [
      "✅ CustomerDim populated.\n"
     ]
    }
   ],
   "source": [
    "import sqlite3\n",
    "import random\n",
    "\n",
    "# Connect to the database\n",
    "conn = sqlite3.connect(\"retail_dw.db\")\n",
    "cursor = conn.cursor()\n",
    "\n",
    "# Generate synthetic customer data\n",
    "names = [\"Alice\", \"Bob\", \"Charlie\", \"Diana\", \"Ethan\", \"Fiona\", \"George\", \"Hannah\"]\n",
    "locations = [\"Nairobi\", \"Mombasa\", \"Kisumu\", \"Eldoret\"]\n",
    "genders = [\"Male\", \"Female\"]\n",
    "\n",
    "customers = []\n",
    "for i in range(1, 11):  # 10 customers\n",
    "    name = random.choice(names)\n",
    "    location = random.choice(locations)\n",
    "    age = random.randint(18, 65)\n",
    "    gender = random.choice(genders)\n",
    "    customers.append((i, name, location, age, gender))\n",
    "\n",
    "# Insert into CustomerDim\n",
    "cursor.executemany(\"\"\"\n",
    "    INSERT INTO CustomerDim (CustomerID, Name, Location, Age, Gender)\n",
    "    VALUES (?, ?, ?, ?, ?);\n",
    "\"\"\", customers)\n",
    "\n",
    "conn.commit()\n",
    "conn.close()\n",
    "\n",
    "print(\"✅ CustomerDim populated.\")\n"
   ]
  },
  {
   "cell_type": "code",
   "execution_count": 2,
   "id": "3db90277",
   "metadata": {},
   "outputs": [
    {
     "name": "stdout",
     "output_type": "stream",
     "text": [
      "✅ ProductDim populated.\n"
     ]
    }
   ],
   "source": [
    "conn = sqlite3.connect(\"retail_dw.db\")\n",
    "cursor = conn.cursor()\n",
    "\n",
    "# Synthetic product data\n",
    "products = [\n",
    "    (1, \"Laptop\", \"Electronics\", 750.00),\n",
    "    (2, \"Smartphone\", \"Electronics\", 500.00),\n",
    "    (3, \"Desk Chair\", \"Furniture\", 120.00),\n",
    "    (4, \"Notebook\", \"Stationery\", 5.00),\n",
    "    (5, \"Pen\", \"Stationery\", 1.50),\n",
    "    (6, \"Water Bottle\", \"Accessories\", 10.00)\n",
    "]\n",
    "\n",
    "cursor.executemany(\"\"\"\n",
    "    INSERT INTO ProductDim (ProductID, ProductName, Category, UnitPrice)\n",
    "    VALUES (?, ?, ?, ?);\n",
    "\"\"\", products)\n",
    "\n",
    "conn.commit()\n",
    "conn.close()\n",
    "\n",
    "print(\"✅ ProductDim populated.\")\n"
   ]
  },
  {
   "cell_type": "code",
   "execution_count": 3,
   "id": "e1099d37",
   "metadata": {},
   "outputs": [
    {
     "name": "stdout",
     "output_type": "stream",
     "text": [
      "✅ TimeDim populated.\n"
     ]
    }
   ],
   "source": [
    "from datetime import datetime, timedelta\n",
    "\n",
    "conn = sqlite3.connect(\"retail_dw.db\")\n",
    "cursor = conn.cursor()\n",
    "\n",
    "# Generate 30 days of time data\n",
    "start_date = datetime(2025, 7, 1)\n",
    "time_data = []\n",
    "\n",
    "for i in range(30):\n",
    "    date = start_date + timedelta(days=i)\n",
    "    time_id = i + 1\n",
    "    time_data.append((\n",
    "        time_id,\n",
    "        date.strftime(\"%Y-%m-%d\"),\n",
    "        date.month,\n",
    "        (date.month - 1) // 3 + 1,  # Quarter\n",
    "        date.year\n",
    "    ))\n",
    "\n",
    "cursor.executemany(\"\"\"\n",
    "    INSERT INTO TimeDim (TimeID, Date, Month, Quarter, Year)\n",
    "    VALUES (?, ?, ?, ?, ?);\n",
    "\"\"\", time_data)\n",
    "\n",
    "conn.commit()\n",
    "conn.close()\n",
    "\n",
    "print(\"✅ TimeDim populated.\")\n"
   ]
  },
  {
   "cell_type": "code",
   "execution_count": 4,
   "id": "b481b819",
   "metadata": {},
   "outputs": [
    {
     "name": "stdout",
     "output_type": "stream",
     "text": [
      "\n",
      "Preview of CustomerDim:\n",
      "(1, 'George', 'Kisumu', 53, 'Male')\n",
      "(2, 'Diana', 'Eldoret', 20, 'Male')\n",
      "(3, 'George', 'Nairobi', 39, 'Male')\n",
      "(4, 'Hannah', 'Mombasa', 37, 'Female')\n",
      "(5, 'Bob', 'Kisumu', 46, 'Female')\n",
      "\n",
      "Preview of ProductDim:\n",
      "(1, 'Laptop', 'Electronics', 750.0)\n",
      "(2, 'Smartphone', 'Electronics', 500.0)\n",
      "(3, 'Desk Chair', 'Furniture', 120.0)\n",
      "(4, 'Notebook', 'Stationery', 5.0)\n",
      "(5, 'Pen', 'Stationery', 1.5)\n",
      "\n",
      "Preview of TimeDim:\n",
      "(1, '2025-07-01', 7, 3, 2025)\n",
      "(2, '2025-07-02', 7, 3, 2025)\n",
      "(3, '2025-07-03', 7, 3, 2025)\n",
      "(4, '2025-07-04', 7, 3, 2025)\n",
      "(5, '2025-07-05', 7, 3, 2025)\n",
      "\n",
      "Preview of SalesFact:\n"
     ]
    }
   ],
   "source": [
    "def preview_table(table_name):\n",
    "    conn = sqlite3.connect(\"retail_dw.db\")\n",
    "    cursor = conn.cursor()\n",
    "    cursor.execute(f\"SELECT * FROM {table_name} LIMIT 5;\")\n",
    "    rows = cursor.fetchall()\n",
    "    print(f\"\\nPreview of {table_name}:\")\n",
    "    for row in rows:\n",
    "        print(row)\n",
    "    conn.close()\n",
    "\n",
    "for table in [\"CustomerDim\", \"ProductDim\", \"TimeDim\", \"SalesFact\"]:\n",
    "    preview_table(table)\n"
   ]
  }
 ],
 "metadata": {
  "kernelspec": {
   "display_name": "Python 3",
   "language": "python",
   "name": "python3"
  },
  "language_info": {
   "codemirror_mode": {
    "name": "ipython",
    "version": 3
   },
   "file_extension": ".py",
   "mimetype": "text/x-python",
   "name": "python",
   "nbconvert_exporter": "python",
   "pygments_lexer": "ipython3",
   "version": "3.12.0"
  }
 },
 "nbformat": 4,
 "nbformat_minor": 5
}
