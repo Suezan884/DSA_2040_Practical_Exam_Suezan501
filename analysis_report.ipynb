{
 "cells": [
  {
   "cell_type": "markdown",
   "id": "7de34aea",
   "metadata": {},
   "source": [
    "\n",
    "# Analysis Report\n",
    "\n",
    "The OLAP queries provided valuable insights into sales performance across different dimensions. The *roll-up query* revealed that *Kenya*, *Uganda*, and *Tanzania* were among the top-selling countries, with Kenya consistently leading in quarterly sales. This suggests strong market penetration and customer engagement in Kenya, making it a strategic focus for future campaigns.\n",
    "\n",
    "The *drill-down analysis* of Kenya’s monthly sales showed seasonal fluctuations, with peaks in *March* and *November*, possibly aligning with promotional periods or holidays. This trend highlights the importance of aligning inventory and marketing efforts with high-demand months to maximize revenue.\n",
    "\n",
    "The *slice query* focused on the *Electronics* category, which emerged as a high-performing segment. This insight supports decisions around product prioritization, bundling strategies, and targeted advertising for electronics.\n",
    "\n",
    "Overall, the data warehouse structure — particularly the star schema — enabled efficient querying and aggregation. By separating facts from dimensions, it supported flexible analysis across time, geography, and product categories. This modular design empowers stakeholders to make data-driven decisions with minimal query complexity.\n",
    "\n",
    "The analysis was based on synthetic data, which may not fully reflect real-world patterns. While useful for testing and demonstrating functionality, synthetic datasets can lack the variability and anomalies present in actual business data. Therefore, conclusions drawn should be validated against real operational data before informing strategic decisions."
   ]
  }
 ],
 "metadata": {
  "language_info": {
   "name": "python"
  }
 },
 "nbformat": 4,
 "nbformat_minor": 5
}
