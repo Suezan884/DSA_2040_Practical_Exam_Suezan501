{
 "cells": [
  {
   "cell_type": "code",
   "execution_count": 7,
   "id": "ffef2ba3",
   "metadata": {},
   "outputs": [
    {
     "name": "stdout",
     "output_type": "stream",
     "text": [
      "Tables created successfully.\n"
     ]
    }
   ],
   "source": [
    "import sqlite3\n",
    "\n",
    "conn = sqlite3.connect(\"retail_dw.db\")\n",
    "cursor = conn.cursor()\n",
    "\n",
    "schema = \"\"\"\n",
    "CREATE TABLE IF NOT EXISTS CustomerDim (\n",
    "    CustomerID INTEGER PRIMARY KEY,\n",
    "    Name TEXT NOT NULL,\n",
    "    Location TEXT,\n",
    "    Age INTEGER,\n",
    "    Gender TEXT\n",
    ");\n",
    "\n",
    "CREATE TABLE IF NOT EXISTS ProductDim (\n",
    "    ProductID INTEGER PRIMARY KEY,\n",
    "    ProductName TEXT NOT NULL,\n",
    "    Category TEXT,\n",
    "    UnitPrice REAL\n",
    ");\n",
    "\n",
    "CREATE TABLE IF NOT EXISTS TimeDim (\n",
    "    TimeID INTEGER PRIMARY KEY,\n",
    "    Date TEXT NOT NULL,\n",
    "    Month INTEGER,\n",
    "    Quarter INTEGER,\n",
    "    Year INTEGER\n",
    ");\n",
    "\n",
    "CREATE TABLE IF NOT EXISTS SalesFact (\n",
    "    SaleID INTEGER PRIMARY KEY,\n",
    "    CustomerID INTEGER,\n",
    "    ProductID INTEGER,\n",
    "    TimeID INTEGER,\n",
    "    Quantity INTEGER,\n",
    "    SalesAmount REAL,\n",
    "    FOREIGN KEY (CustomerID) REFERENCES CustomerDim(CustomerID),\n",
    "    FOREIGN KEY (ProductID) REFERENCES ProductDim(ProductID),\n",
    "    FOREIGN KEY (TimeID) REFERENCES TimeDim(TimeID)\n",
    ");\n",
    "\"\"\"\n",
    "\n",
    "cursor.executescript(schema)\n",
    "conn.commit()\n",
    "conn.close()\n",
    "\n",
    "print(\"Tables created successfully.\")\n"
   ]
  },
  {
   "cell_type": "code",
   "execution_count": 8,
   "id": "14fd6a06",
   "metadata": {},
   "outputs": [
    {
     "name": "stdout",
     "output_type": "stream",
     "text": [
      "Tables in retail_dw.db:\n",
      "CustomerDim\n",
      "ProductDim\n",
      "TimeDim\n",
      "SalesFact\n"
     ]
    }
   ],
   "source": [
    "conn = sqlite3.connect(\"retail_dw.db\")\n",
    "cursor = conn.cursor()\n",
    "\n",
    "cursor.execute(\"SELECT name FROM sqlite_master WHERE type='table';\")\n",
    "tables = cursor.fetchall()\n",
    "\n",
    "print(\"Tables in retail_dw.db:\")\n",
    "for table in tables:\n",
    "    print(table[0])\n",
    "\n",
    "conn.close()\n"
   ]
  }
 ],
 "metadata": {
  "kernelspec": {
   "display_name": "Python 3",
   "language": "python",
   "name": "python3"
  },
  "language_info": {
   "codemirror_mode": {
    "name": "ipython",
    "version": 3
   },
   "file_extension": ".py",
   "mimetype": "text/x-python",
   "name": "python",
   "nbconvert_exporter": "python",
   "pygments_lexer": "ipython3",
   "version": "3.12.0"
  }
 },
 "nbformat": 4,
 "nbformat_minor": 5
}
